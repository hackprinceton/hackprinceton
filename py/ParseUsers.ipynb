{
 "metadata": {
  "name": "",
  "signature": "sha256:87b4cd2065eaa3212981e8c4596d4b32dc9967d4002a1e1a1d7a2f1ff370f7e5"
 },
 "nbformat": 3,
 "nbformat_minor": 0,
 "worksheets": [
  {
   "cells": [
    {
     "cell_type": "code",
     "collapsed": false,
     "input": [
      "import csv, json, os, urllib # or use simplejson for nice datatypes"
     ],
     "language": "python",
     "metadata": {},
     "outputs": [],
     "prompt_number": 1
    },
    {
     "cell_type": "code",
     "collapsed": false,
     "input": [
      "# Read in the data\n",
      "json_data = open('./_User.json')\n",
      "signups = json.load(json_data)['results']\n",
      "json_data.close()\n",
      "total = len(signups)"
     ],
     "language": "python",
     "metadata": {},
     "outputs": [],
     "prompt_number": 2
    },
    {
     "cell_type": "code",
     "collapsed": false,
     "input": [
      "# Parse the data\n",
      "attr = ['first', 'last', 'email', 'status', 'attending', 'school', 'major', 'gender', 'grade', 'team', 'type']\n",
      "\n",
      "people=[] # list of all signups\n",
      "\n",
      "for person in signups:\n",
      "    info = {} # temporary storage dictionary\n",
      "    for key in person:\n",
      "        if key in person:\n",
      "            info[key] = person[key]\n",
      "    people.append(info);"
     ],
     "language": "python",
     "metadata": {},
     "outputs": [],
     "prompt_number": 3
    },
    {
     "cell_type": "code",
     "collapsed": false,
     "input": [
      "# Select rows\n",
      "query = 'attending'\n",
      "value = True\n",
      "\n",
      "selected = []\n",
      "\n",
      "for person in people:\n",
      "    if query in person and person[query] == value:\n",
      "        selected.append(person)"
     ],
     "language": "python",
     "metadata": {},
     "outputs": [],
     "prompt_number": 4
    },
    {
     "cell_type": "code",
     "collapsed": false,
     "input": [
      "# Write csv\n",
      "\n",
      "# b = open('out.csv', 'w')\n",
      "# a = csv.writer(b)\n",
      "# for person in selected:\n",
      "#     a.writerow([person['email']])\n",
      "# b.close()"
     ],
     "language": "python",
     "metadata": {},
     "outputs": [],
     "prompt_number": 5
    },
    {
     "cell_type": "code",
     "collapsed": false,
     "input": [
      "# Download resumes\n",
      "\n",
      "dirname = 'resumes/'\n",
      "\n",
      "for person in selected:\n",
      "    filename = dirname + person['first'] + \"_\" + person['last'] + \".pdf\"\n",
      "    if 'resumeURL' in person:\n",
      "        if not os.path.isfile(filename):\n",
      "            print filename\n",
      "            urllib.urlretrieve(person['resumeURL'], filename)"
     ],
     "language": "python",
     "metadata": {},
     "outputs": [],
     "prompt_number": 12
    },
    {
     "cell_type": "code",
     "collapsed": false,
     "input": [],
     "language": "python",
     "metadata": {},
     "outputs": []
    }
   ],
   "metadata": {}
  }
 ]
}