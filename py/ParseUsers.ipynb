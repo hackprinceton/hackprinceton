{
 "metadata": {
  "name": "",
  "signature": "sha256:860be62166966a9552f018757cb7c1cbdd155806282d0605454413aeaae02c5f"
 },
 "nbformat": 3,
 "nbformat_minor": 0,
 "worksheets": [
  {
   "cells": [
    {
     "cell_type": "code",
     "collapsed": false,
     "input": [
      "import csv, json # or use simplejson for nice datatypes"
     ],
     "language": "python",
     "metadata": {},
     "outputs": [],
     "prompt_number": 186
    },
    {
     "cell_type": "code",
     "collapsed": false,
     "input": [
      "# Read in the data\n",
      "json_data = open('./_User.json')\n",
      "signups = json.load(json_data)['results']\n",
      "json_data.close()\n",
      "total = len(signups)"
     ],
     "language": "python",
     "metadata": {},
     "outputs": [],
     "prompt_number": 187
    },
    {
     "cell_type": "code",
     "collapsed": false,
     "input": [
      "# Parse the data\n",
      "attr = ['first', 'last', 'email', 'status', 'attending', 'school', 'major', 'gender', 'grade', 'team', 'type']\n",
      "\n",
      "people=[] # list of all signups\n",
      "\n",
      "for person in signups:\n",
      "    info = {} # temporary storage dictionary\n",
      "    for key in attr:\n",
      "        if key in person:\n",
      "            info[key] = person[key]\n",
      "    people.append(info);"
     ],
     "language": "python",
     "metadata": {},
     "outputs": [],
     "prompt_number": 188
    },
    {
     "cell_type": "code",
     "collapsed": false,
     "input": [
      "# Select rows\n",
      "query = 'attending'\n",
      "value = True\n",
      "\n",
      "selected = [];\n",
      "emails = [];\n",
      "\n",
      "for person in people:\n",
      "    if query in person and person[query] == value:\n",
      "        selected.append(person)\n",
      "        emails.append(person['email'])   "
     ],
     "language": "python",
     "metadata": {},
     "outputs": [],
     "prompt_number": 193
    },
    {
     "cell_type": "code",
     "collapsed": false,
     "input": [
      "b = open('out.csv', 'w')\n",
      "a = csv.writer(b)\n",
      "for email in emails:\n",
      "    a.writerow([email] + ['']) # such hackery\n",
      "b.close()"
     ],
     "language": "python",
     "metadata": {},
     "outputs": [],
     "prompt_number": 194
    },
    {
     "cell_type": "code",
     "collapsed": false,
     "input": [],
     "language": "python",
     "metadata": {},
     "outputs": []
    }
   ],
   "metadata": {}
  }
 ]
}